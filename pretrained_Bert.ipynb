{
 "cells": [
  {
   "cell_type": "markdown",
   "id": "a3004129-c072-464b-b696-fe5723ab4d4f",
   "metadata": {},
   "source": [
    "## PreTrained BERT를 이용한 감성분류 전이학습 샘플코드"
   ]
  },
  {
   "cell_type": "code",
   "execution_count": 13,
   "id": "ef23dfd6-3af4-4506-b7ad-106574881db2",
   "metadata": {},
   "outputs": [
    {
     "name": "stderr",
     "output_type": "stream",
     "text": [
      "Some weights of the model checkpoint at bert-base-multilingual-cased were not used when initializing BertForSequenceClassification: ['cls.predictions.decoder.weight', 'cls.predictions.transform.dense.bias', 'cls.predictions.transform.LayerNorm.bias', 'cls.predictions.bias', 'cls.predictions.transform.dense.weight', 'cls.seq_relationship.bias', 'cls.predictions.transform.LayerNorm.weight', 'cls.seq_relationship.weight']\n",
      "- This IS expected if you are initializing BertForSequenceClassification from the checkpoint of a model trained on another task or with another architecture (e.g. initializing a BertForSequenceClassification model from a BertForPreTraining model).\n",
      "- This IS NOT expected if you are initializing BertForSequenceClassification from the checkpoint of a model that you expect to be exactly identical (initializing a BertForSequenceClassification model from a BertForSequenceClassification model).\n",
      "Some weights of BertForSequenceClassification were not initialized from the model checkpoint at bert-base-multilingual-cased and are newly initialized: ['classifier.bias', 'classifier.weight']\n",
      "You should probably TRAIN this model on a down-stream task to be able to use it for predictions and inference.\n"
     ]
    },
    {
     "name": "stdout",
     "output_type": "stream",
     "text": [
      "[1] loss: 0.478\n",
      "[2] loss: 0.395\n",
      "[3] loss: 0.277\n",
      "[4] loss: 0.228\n",
      "[5] loss: 0.158\n",
      "[6] loss: 0.297\n",
      "[7] loss: 0.131\n",
      "[8] loss: 0.129\n",
      "[9] loss: 0.110\n",
      "[10] loss: 0.043\n"
     ]
    }
   ],
   "source": [
    "from transformers import BertTokenizer, BertForSequenceClassification\n",
    "from transformers import AutoModel, AutoTokenizer\n",
    "import torch\n",
    "import torch.nn as nn\n",
    "import torch.optim as optim\n",
    "import warnings\n",
    "\n",
    "warnings.filterwarnings('ignore')\n",
    "\n",
    "# 모델과 토크나이저 불러오기\n",
    "model_name = \"bert-base-multilingual-cased\"\n",
    "model = BertForSequenceClassification.from_pretrained(\n",
    "    model_name,\n",
    "    num_labels = 2,\n",
    "    output_attentions = False,\n",
    "    output_hidden_states = False,\n",
    ")\n",
    "tokenizer = AutoTokenizer.from_pretrained(model_name)\n",
    "\n",
    "# 전이학습용 데이터셋 구성하기\n",
    "train_data = [\n",
    "    ('1', '별로에요', 1), \n",
    "    ('2', '비싸요', 1),\n",
    "    ('3', '좋아요! 다음에 또 구매하겠습니다.', 0),\n",
    "    ('4', '훌륭합니다. 강추합니다.', 0),\n",
    "    ('5', '이정도로 시장에 나오기에는 무리가 있는듯',1),\n",
    "    ('6', '가성비가 썩 좋진 않네요',1),\n",
    "    ('7', '그래도 살만하네요',0)\n",
    "]\n",
    "\n",
    "# 토큰화 및 패딩 처리하기\n",
    "def tokenize_and_pad(sentence, max_length):\n",
    "    inputs = tokenizer(sentence, padding='max_length', truncation=True, max_length=max_length, return_tensors='pt')\n",
    "    return inputs['input_ids'], inputs['attention_mask']\n",
    "\n",
    "# 데이터셋 변환하기\n",
    "def preprocess(data):\n",
    "    processed = []\n",
    "    max_length = 64\n",
    "    for item in data:\n",
    "        input_id, attention_mask = tokenize_and_pad(item[1], max_length)\n",
    "        label = torch.tensor(item[2]).long()\n",
    "        processed.append((input_id, attention_mask, label))\n",
    "    return processed\n",
    "\n",
    "train_data = preprocess(train_data)\n",
    "\n",
    "# 학습 관련 파라미터 설정하기\n",
    "batch_size = 3\n",
    "num_epochs = 10\n",
    "learning_rate = 1e-4\n",
    "\n",
    "# 모델 학습하기\n",
    "device = torch.device(\"mps\" if torch.backends.mps.is_available() else \"cpu\")\n",
    "model.to(device)\n",
    "optimizer = optim.Adam(model.parameters(), lr=learning_rate)\n",
    "criterion = nn.CrossEntropyLoss()\n",
    "\n",
    "for epoch in range(num_epochs):\n",
    "    running_loss = 0.0\n",
    "    for i, batch in enumerate(torch.utils.data.DataLoader(train_data, batch_size=batch_size)):\n",
    "        inputs, masks, labels = tuple(t.to(device) for t in batch)\n",
    "        optimizer.zero_grad()\n",
    "        outputs = model(inputs.squeeze(1), attention_mask=masks.squeeze(1))\n",
    "        loss = criterion(outputs.logits, labels)\n",
    "        loss.backward()\n",
    "        optimizer.step()\n",
    "        running_loss += loss.item()\n",
    "\n",
    "    print('[%d] loss: %.3f' % (epoch + 1, running_loss / len(train_data)))\n"
   ]
  },
  {
   "cell_type": "markdown",
   "id": "ee1f8015-c42e-43f0-acbb-91d333826ace",
   "metadata": {},
   "source": [
    "## 모델 결과 테스트"
   ]
  },
  {
   "cell_type": "code",
   "execution_count": 24,
   "id": "a44d6fd0-6c5b-4ea7-a200-b4b3dbbfcc3d",
   "metadata": {},
   "outputs": [
    {
     "name": "stdout",
     "output_type": "stream",
     "text": [
      "이 가격이면 그래도 살 것 같네요. - 만족입니다(불만확률 : 0.11037643998861313)\n",
      "너무 부담스럽네요. - 불만입니다(불만확률 : 0.8615490794181824)\n",
      "이런걸 살바에는 다른걸 사는게 낫죠 - 불만입니다(불만확률 : 0.8861760497093201)\n",
      "오늘 본 제품 중 최고입니다. - 만족입니다(불만확률 : 0.014779518358409405)\n"
     ]
    }
   ],
   "source": [
    "sentences = [\"이 가격이면 그래도 살 것 같네요.\", \"너무 부담스럽네요.\", \"이런걸 살바에는 다른걸 사는게 낫죠\", \"오늘 본 제품 중 최고입니다.\"]\n",
    "for test_sentence in sentences:\n",
    "    test_input_id, test_attention_mask = tokenize_and_pad(test_sentence, 64)\n",
    "    test_input_id = test_input_id.to(device)\n",
    "    test_attention_mask = test_attention_mask.to(device)\n",
    "\n",
    "    with torch.no_grad():\n",
    "        test_output = model(test_input_id, attention_mask=test_attention_mask)\n",
    "    test_probs = nn.Softmax(dim=1)(test_output.logits).squeeze()\n",
    "    \n",
    "    if test_probs[0] < test_probs[1]:\n",
    "        print(f\"{test_sentence} - 불만입니다(불만확률 : {test_probs[1]})\")\n",
    "    else:\n",
    "        print(f\"{test_sentence} - 만족입니다(불만확률 : {test_probs[1]})\")\n"
   ]
  },
  {
   "cell_type": "code",
   "execution_count": null,
   "id": "3440085c-b1f0-4c77-a18c-52606d4ba582",
   "metadata": {},
   "outputs": [],
   "source": []
  }
 ],
 "metadata": {
  "kernelspec": {
   "display_name": "Python 3 (ipykernel)",
   "language": "python",
   "name": "python3"
  },
  "language_info": {
   "codemirror_mode": {
    "name": "ipython",
    "version": 3
   },
   "file_extension": ".py",
   "mimetype": "text/x-python",
   "name": "python",
   "nbconvert_exporter": "python",
   "pygments_lexer": "ipython3",
   "version": "3.8.16"
  }
 },
 "nbformat": 4,
 "nbformat_minor": 5
}
